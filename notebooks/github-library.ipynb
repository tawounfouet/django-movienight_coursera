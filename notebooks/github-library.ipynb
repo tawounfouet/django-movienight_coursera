{
 "cells": [
  {
   "cell_type": "code",
   "execution_count": null,
   "id": "c747e677-96a7-44d2-b334-31247495cc3a",
   "metadata": {},
   "outputs": [],
   "source": []
  },
  {
   "cell_type": "code",
   "execution_count": 6,
   "id": "af75b441-f4b5-4c54-b0a0-1edfd7758817",
   "metadata": {},
   "outputs": [],
   "source": [
    "#!pip install github\n",
    "#!pip install PyGithub"
   ]
  },
  {
   "cell_type": "code",
   "execution_count": null,
   "id": "5e650ff4-a8df-404c-8604-9bf0d7128d68",
   "metadata": {},
   "outputs": [
    {
     "name": "stdout",
     "output_type": "stream",
     "text": [
      "<class 'github.AuthenticatedUser.AuthenticatedUser'>\n"
     ]
    }
   ],
   "source": [
    "from github import Github\n",
    "access_token = \"\"\n",
    "\n",
    "g = Github(access_token)\n",
    "user = g.get_user()\n",
    "print(type(user))"
   ]
  },
  {
   "cell_type": "code",
   "execution_count": 11,
   "id": "46c4a7dd-3293-436f-9a28-3a42f7211e7a",
   "metadata": {},
   "outputs": [
    {
     "name": "stdout",
     "output_type": "stream",
     "text": [
      "Thomas AWOUNFOUET\n"
     ]
    }
   ],
   "source": [
    "print(user.name)"
   ]
  },
  {
   "cell_type": "code",
   "execution_count": null,
   "id": "50087e58-a5fe-45e1-b9dc-403e3c8799bb",
   "metadata": {},
   "outputs": [],
   "source": []
  },
  {
   "cell_type": "code",
   "execution_count": 12,
   "id": "44ae8f6c-7cac-4c43-9e53-471199c49e10",
   "metadata": {},
   "outputs": [
    {
     "name": "stdout",
     "output_type": "stream",
     "text": [
      "django-divalt-webapp\n",
      "<class 'github.Repository.Repository'>\n",
      "advanced-django-coursera\n",
      "<class 'github.Repository.Repository'>\n",
      "coursera-django-blango\n",
      "<class 'github.Repository.Repository'>\n",
      "django-api-project\n",
      "<class 'github.Repository.Repository'>\n",
      "django-azure-webapp-quickstart\n",
      "<class 'github.Repository.Repository'>\n",
      "django-blog\n",
      "<class 'github.Repository.Repository'>\n",
      "django-cars-listing-project\n",
      "<class 'github.Repository.Repository'>\n",
      "django-course-platform\n",
      "<class 'github.Repository.Repository'>\n",
      "django-deploy-https\n",
      "<class 'github.Repository.Repository'>\n",
      "django-ecommerce_project\n",
      "<class 'github.Repository.Repository'>\n",
      "django-everycheese\n",
      "<class 'github.Repository.Repository'>\n",
      "django-invoice-system\n",
      "<class 'github.Repository.Repository'>\n",
      "django-micro-ecommerce\n",
      "<class 'github.Repository.Repository'>\n",
      "django-newsmag-app\n",
      "<class 'github.Repository.Repository'>\n",
      "django-online-course-app\n",
      "<class 'github.Repository.Repository'>\n",
      "django-postgresql-azure-app\n",
      "<class 'github.Repository.Repository'>\n",
      "django-react-ecommerce\n",
      "<class 'github.Repository.Repository'>\n",
      "django-react-stock-prediction\n",
      "<class 'github.Repository.Repository'>\n",
      "django-relecloud-msf\n",
      "<class 'github.Repository.Repository'>\n",
      "django-REST-littlelemon-api\n",
      "<class 'github.Repository.Repository'>\n",
      "django-restAPI-meta-course\n",
      "<class 'github.Repository.Repository'>\n",
      "django-saas-foundation\n",
      "<class 'github.Repository.Repository'>\n",
      "django-stock-trading-bot\n",
      "<class 'github.Repository.Repository'>\n",
      "django-task-automation\n",
      "<class 'github.Repository.Repository'>\n",
      "django-tettings-ci_cd\n",
      "<class 'github.Repository.Repository'>\n",
      "django-video-membership\n",
      "<class 'github.Repository.Repository'>\n",
      "django_ci_cd\n",
      "<class 'github.Repository.Repository'>\n",
      "docker-django-example\n",
      "<class 'github.Repository.Repository'>\n",
      "ocr_django-booking-heroku-deploy\n",
      "<class 'github.Repository.Repository'>\n",
      "ocr_django-fotoblog\n",
      "<class 'github.Repository.Repository'>\n",
      "ocr_django-litrevu-project\n",
      "<class 'github.Repository.Repository'>\n",
      "ocr_django-merchex\n",
      "<class 'github.Repository.Repository'>\n",
      "ocr_djangoRF-softdesk-api\n",
      "<class 'github.Repository.Repository'>\n",
      "ocr_testing-python-django\n",
      "<class 'github.Repository.Repository'>\n",
      "premier-pas-avec-django\n",
      "<class 'github.Repository.Repository'>\n",
      "talk-to-django_RAG\n",
      "<class 'github.Repository.Repository'>\n",
      "yt_django-lms-app\n",
      "<class 'github.Repository.Repository'>\n"
     ]
    }
   ],
   "source": [
    "for repo in user.get_repos():\n",
    "    if \"django\" in repo.name:\n",
    "        print(repo.name)\n",
    "        print(type(repo))"
   ]
  }
 ],
 "metadata": {
  "kernelspec": {
   "display_name": "Python 3 (ipykernel)",
   "language": "python",
   "name": "python3"
  },
  "language_info": {
   "codemirror_mode": {
    "name": "ipython",
    "version": 3
   },
   "file_extension": ".py",
   "mimetype": "text/x-python",
   "name": "python",
   "nbconvert_exporter": "python",
   "pygments_lexer": "ipython3",
   "version": "3.10.11"
  }
 },
 "nbformat": 4,
 "nbformat_minor": 5
}
