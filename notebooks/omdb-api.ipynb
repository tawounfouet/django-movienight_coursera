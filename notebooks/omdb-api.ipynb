{
 "cells": [
  {
   "cell_type": "code",
   "execution_count": null,
   "metadata": {},
   "outputs": [],
   "source": []
  },
  {
   "cell_type": "code",
   "execution_count": null,
   "metadata": {},
   "outputs": [
    {
     "name": "stdout",
     "output_type": "stream",
     "text": [
      "{'Title': 'Starwars: Goretech', 'Year': '2018', 'Rated': 'N/A', 'Released': '07 Dec 2018', 'Runtime': '90 min', 'Genre': 'Action, Comedy, Sci-Fi', 'Director': 'Germán Magariños', 'Writer': 'Vic Cicuta, Germán Magariños', 'Actors': 'Vic Cicuta, Julieta Grimaldo, Fabian Moreno', 'Plot': 'N/A', 'Language': 'Spanish', 'Country': 'Argentina', 'Awards': 'N/A', 'Poster': 'https://m.media-amazon.com/images/M/MV5BNTI5OTBhMGYtNTZlNS00MjMzLTk5NTEtZDZkODM5YjYzYmE5XkEyXkFqcGdeQXVyMzU0OTU0MzY@._V1_SX300.jpg', 'Ratings': [{'Source': 'Internet Movie Database', 'Value': '4.7/10'}], 'Metascore': 'N/A', 'imdbRating': '4.7', 'imdbVotes': '40', 'imdbID': 'tt9336300', 'Type': 'movie', 'DVD': 'N/A', 'BoxOffice': 'N/A', 'Production': 'N/A', 'Website': 'N/A', 'Response': 'True'}\n"
     ]
    }
   ],
   "source": [
    "import os\n",
    "import requests\n",
    "\n",
    "#params = {\"apikey\": os.environ[\"DJANGO_OMDB_KEY\"], \"t\": \"starwars\"}\n",
    "params = {\"apikey\": \"\", \"t\": \"starwars\"}\n",
    "\n",
    "\n",
    "resp = requests.get(\"https://www.omdbapi.com/\", params=params)\n",
    "# actual URL will be https://www.omdbapi.com/?apikey=<key>&t=star+wars\n",
    "\n",
    "print(resp.json())\n"
   ]
  },
  {
   "cell_type": "code",
   "execution_count": 9,
   "metadata": {},
   "outputs": [
    {
     "data": {
      "text/plain": [
       "{'Title': 'Starwars: Goretech',\n",
       " 'Year': '2018',\n",
       " 'Rated': 'N/A',\n",
       " 'Released': '07 Dec 2018',\n",
       " 'Runtime': '90 min',\n",
       " 'Genre': 'Action, Comedy, Sci-Fi',\n",
       " 'Director': 'Germán Magariños',\n",
       " 'Writer': 'Vic Cicuta, Germán Magariños',\n",
       " 'Actors': 'Vic Cicuta, Julieta Grimaldo, Fabian Moreno',\n",
       " 'Plot': 'N/A',\n",
       " 'Language': 'Spanish',\n",
       " 'Country': 'Argentina',\n",
       " 'Awards': 'N/A',\n",
       " 'Poster': 'https://m.media-amazon.com/images/M/MV5BNTI5OTBhMGYtNTZlNS00MjMzLTk5NTEtZDZkODM5YjYzYmE5XkEyXkFqcGdeQXVyMzU0OTU0MzY@._V1_SX300.jpg',\n",
       " 'Ratings': [{'Source': 'Internet Movie Database', 'Value': '4.7/10'}],\n",
       " 'Metascore': 'N/A',\n",
       " 'imdbRating': '4.7',\n",
       " 'imdbVotes': '40',\n",
       " 'imdbID': 'tt9336300',\n",
       " 'Type': 'movie',\n",
       " 'DVD': 'N/A',\n",
       " 'BoxOffice': 'N/A',\n",
       " 'Production': 'N/A',\n",
       " 'Website': 'N/A',\n",
       " 'Response': 'True'}"
      ]
     },
     "execution_count": 9,
     "metadata": {},
     "output_type": "execute_result"
    }
   ],
   "source": [
    "resp.json()"
   ]
  },
  {
   "cell_type": "code",
   "execution_count": null,
   "metadata": {},
   "outputs": [],
   "source": []
  },
  {
   "cell_type": "code",
   "execution_count": 7,
   "metadata": {},
   "outputs": [
    {
     "data": {
      "text/plain": [
       "{'Response': 'False', 'Error': 'Movie not found!'}"
      ]
     },
     "execution_count": 7,
     "metadata": {},
     "output_type": "execute_result"
    }
   ],
   "source": [
    "#params = {\"apikey\": os.environ[\"DJANGO_OMDB_KEY\"], \"s\": \"starwar\", \"type\": \"movie\"}\n",
    "params = {\"apikey\": \"81d0a701\", \"s\": \"starwar\", \"type\": \"movie\"}\n",
    "\n",
    "resp = requests.get(\"https://www.omdbapi.com/\", params=params)\n",
    "resp.json()"
   ]
  },
  {
   "cell_type": "code",
   "execution_count": null,
   "metadata": {},
   "outputs": [],
   "source": []
  },
  {
   "cell_type": "code",
   "execution_count": 3,
   "metadata": {},
   "outputs": [],
   "source": [
    "import logging\n",
    "import requests\n",
    "\n",
    "logger = logging.getLogger(__name__)\n",
    "OMDB_API_URL = \"https://www.omdbapi.com/\"\n",
    "\n",
    "\n",
    "\n",
    "class OmdbMovie:\n",
    "    \"\"\"A simple class to represent movie data coming back fromOMDb\n",
    "    and transform to Python types.\n",
    "    \"\"\"\n",
    "    def __init__(self, data):\n",
    "        \"\"\"Data is the raw JSON/dict returned from OMDb\"\"\"\n",
    "        self.data = data\n",
    "\n",
    "    def check_for_detail_data_key(self, key):\n",
    "        \"\"\"Some keys are only in the detail response, raise anexception if the key is not found.\"\"\"\n",
    "        if key not in self.data:\n",
    "            raise AttributeError(f\"{key} is not in data, please make sure this is a detail response.\")\n",
    "        \n",
    "    @property\n",
    "    def imdb_id(self):\n",
    "        return self.data[\"imdbID\"]\n",
    "    \n",
    "    @property\n",
    "    def title(self):\n",
    "        return self.data[\"Title\"]\n",
    "    \n",
    "    @property\n",
    "    def year(self):\n",
    "        return int(self.data[\"Year\"])\n",
    "    \n",
    "    @property\n",
    "    def runtime_minutes(self):\n",
    "        self.check_for_detail_data_key(\"Runtime\")\n",
    "        rt, units = self.data[\"Runtime\"].split(\" \")\n",
    "        if units != \"min\":\n",
    "            raise ValueError(f\"Expected units 'min' for runtime. Got '{units}\")\n",
    "        \n",
    "        return int(rt)\n",
    "\n",
    "\n",
    "    @property\n",
    "    def genres(self):\n",
    "        self.check_for_detail_data_key(\"Genre\")\n",
    "        return self.data[\"Genre\"].split(\", \")\n",
    "    \n",
    "    @property\n",
    "    def plot(self):\n",
    "        self.check_for_detail_data_key(\"Plot\")\n",
    "        return self.data[\"Plot\"]\n"
   ]
  },
  {
   "cell_type": "code",
   "execution_count": 2,
   "metadata": {},
   "outputs": [],
   "source": [
    "# data is a dictionary from the API\n",
    "data = {\n",
    "    \"Title\": \"My Great Movie\", \n",
    "    \"Year\": \"1991\"\n",
    "}\n",
    "\n",
    "movie = OmdbMovie(data)"
   ]
  },
  {
   "cell_type": "code",
   "execution_count": 4,
   "metadata": {},
   "outputs": [
    {
     "data": {
      "text/plain": [
       "'My Great Movie'"
      ]
     },
     "execution_count": 4,
     "metadata": {},
     "output_type": "execute_result"
    }
   ],
   "source": [
    "movie.title"
   ]
  },
  {
   "cell_type": "code",
   "execution_count": 5,
   "metadata": {},
   "outputs": [
    {
     "data": {
      "text/plain": [
       "1991"
      ]
     },
     "execution_count": 5,
     "metadata": {},
     "output_type": "execute_result"
    }
   ],
   "source": [
    "movie.year"
   ]
  },
  {
   "cell_type": "code",
   "execution_count": 7,
   "metadata": {},
   "outputs": [],
   "source": [
    "#movie.plot"
   ]
  },
  {
   "cell_type": "code",
   "execution_count": null,
   "metadata": {},
   "outputs": [],
   "source": []
  },
  {
   "cell_type": "code",
   "execution_count": 8,
   "metadata": {},
   "outputs": [],
   "source": [
    "class OmdbClient:\n",
    "    def __init__(self, api_key):\n",
    "        self.api_key = api_key\n",
    "\n",
    "def make_request(self, params):\n",
    "    \"\"\"Make a GET request to the API, automatically adding\n",
    "    the `apikey` to parameters.\"\"\"\n",
    "    params[\"apikey\"] = self.api_key\n",
    "    resp = requests.get(OMDB_API_URL, params=params)\n",
    "    resp.raise_for_status()\n",
    "    return resp\n",
    "\n",
    "def get_by_imdb_id(self, imdb_id):\n",
    "    \"\"\"Get a movie by its IMDB ID\"\"\"\n",
    "    logger.info(\"Fetching detail for IMDB ID %s\", imdb_id)\n",
    "    resp = self.make_request({\"i\": imdb_id})\n",
    "    return OmdbMovie(resp.json())\n",
    "\n",
    "def search(self, search):\n",
    "    \"\"\"Search for movies by title. This is a generator so\n",
    "    all results from all pages will be iterated across.\"\"\"\n",
    "    page = 1\n",
    "    seen_results = 0\n",
    "    total_results = None\n",
    "    logger.info(\"Performing a search for '%s'\", search)\n",
    "\n",
    "    while True:\n",
    "        logger.info(\"Fetching page %d\", page)\n",
    "        resp = self.make_request({\"s\": search, \"type\":\n",
    "        \"movie\", \"page\": str(page)})\n",
    "        resp_body = resp.json()\n",
    "\n",
    "        if total_results is None:\n",
    "            total_results = int(resp_body[\"totalResults\"])\n",
    "    \n",
    "        for movie in resp_body[\"Search\"]:\n",
    "            seen_results += 1\n",
    "            yield OmdbMovie(movie)\n",
    "\n",
    "        if seen_results >= total_results:\n",
    "            break\n",
    "        \n",
    "        page += 1"
   ]
  },
  {
   "cell_type": "code",
   "execution_count": null,
   "metadata": {},
   "outputs": [],
   "source": []
  },
  {
   "cell_type": "code",
   "execution_count": 9,
   "metadata": {},
   "outputs": [],
   "source": [
    "#from django.conf import settings\n",
    "# from omdb.client import OmdbClient\n",
    "\n",
    "def get_client_from_settings():\n",
    "    \"\"\"Create an instance of an OmdbClient using the OMDB_KEY.\"\"\"\n",
    "    OMDB_KEY = \"81d0a701\"\n",
    "    \n",
    "    return OmdbClient(OMDB_KEY)\n"
   ]
  },
  {
   "cell_type": "code",
   "execution_count": null,
   "metadata": {},
   "outputs": [],
   "source": []
  },
  {
   "cell_type": "markdown",
   "metadata": {},
   "source": [
    "## Helper Functions\n",
    "\n",
    "Rather than integrate OmdbClient directly into our Django views, we’ll write three helper functions that contain the logic. This will allow to add some\n",
    "management commands without repeating code. The helper functions will be:\n",
    "\n",
    "- `get_or_create_genres()`: Accepts a list of genre names (strings) and yields a Genre object for each of them.\n",
    "- ``fill_movie_details()``: Accepts a Movie object and then queries the OMDb API to fill in the missing data.\n",
    "- ``search_and_save()``: Accepts a search term (string). Checks if the search has been performed in the past 24 hours, and returns if so. Otherwise, it performs the search against the OMDb API and creates Movie objects for each result.\n"
   ]
  },
  {
   "cell_type": "code",
   "execution_count": null,
   "metadata": {},
   "outputs": [],
   "source": [
    "import logging\n",
    "import re\n",
    "from datetime import timedelta\n",
    "from django.utils.timezone import now\n",
    "from movies.models import Genre, SearchTerm, Movie\n",
    "from omdb.django_client import get_client_from_settings\n",
    "logger = logging.getLogger(__name__)\n",
    "\n",
    "\n",
    "def get_or_create_genres(genre_names):\n",
    "    for genre_name in genre_names:\n",
    "        genre, created = Genre.objects.get_or_create(name=genre_name)\n",
    "    yield genre\n",
    "\n",
    "\n",
    "def fill_movie_details(movie):\n",
    "    \"\"\"\n",
    "    Fetch a movie's full details from OMDb. Then, save it to the\n",
    "    DB. If the movie already has a `full_record` this does\n",
    "    nothing, so it's safe to call with any `Movie`.\n",
    "    \"\"\"\n",
    "    if movie.is_full_record:\n",
    "        logger.warning(\"'%s' is already a full record.\", movie.title,)\n",
    "    return\n",
    "\n",
    "    omdb_client = get_client_from_settings()\n",
    "    movie_details = omdb_client.get_by_imdb_id(movie.imdb_id)\n",
    "    movie.title = movie_details.title\n",
    "    movie.year = movie_details.year\n",
    "    movie.plot = movie_details.plot\n",
    "    movie.runtime_minutes = movie_details.runtime_minutes\n",
    "    movie.genres.clear()\n",
    "\n",
    "    for genre in get_or_create_genres(movie_details.genres):\n",
    "        movie.genres.add(genre)\n",
    "    movie.is_full_record = True\n",
    "    movie.save()\n",
    "\n",
    "\n",
    "\n",
    "def search_and_save(search):\n",
    "    \"\"\"\n",
    "    Perform a search for search_term against the API, but only\n",
    "    if it hasn't been searched in the past 24 hours. Save\n",
    "    each result to the local DB as a partial record.\n",
    "    \"\"\"\n",
    "    # Replace multiple spaces with single spaces, and lowercase the search\n",
    "    normalized_search_term = re.sub(r\"\\s+\", \" \", search.lower())\n",
    "    search_term, created = SearchTerm.objects.get_or_create(term=normalized_search_term)\n",
    "\n",
    "    if not created and (search_term.last_search > now() - timedelta(days=1)):\n",
    "        # Don't search as it has been searched recently\n",
    "        logger.warning(\"Search for '%s' was performed in the past 24 hours so not searching again.\",\n",
    "                        normalized_search_term,)\n",
    "        return\n",
    "\n",
    "    omdb_client = get_client_from_settings()\n",
    "\n",
    "    for omdb_movie in omdb_client.search(search):\n",
    "        logger.info(\"Saving movie: '%s' / '%s'\",\n",
    "        omdb_movie.title, omdb_movie.imdb_id)\n",
    "        movie, created = Movie.objects.get_or_create(\n",
    "            imdb_id=omdb_movie.imdb_id,\n",
    "            defaults={\n",
    "                \"title\": omdb_movie.title,\n",
    "                \"year\": omdb_movie.year,\n",
    "            },\n",
    "        )\n",
    "\n",
    "        if created:\n",
    "            logger.info(\"Movie created: '%s'\", movie.title)\n",
    "\n",
    "    search_term.save()"
   ]
  },
  {
   "cell_type": "code",
   "execution_count": null,
   "metadata": {},
   "outputs": [],
   "source": []
  },
  {
   "cell_type": "code",
   "execution_count": null,
   "metadata": {},
   "outputs": [],
   "source": []
  },
  {
   "cell_type": "code",
   "execution_count": null,
   "metadata": {},
   "outputs": [],
   "source": [
    "python3 movie-night/module3/movienight/manage.py runserver 0.0.0.0:8000\n",
    "\n",
    "\n",
    "python3 movie-night/module3/movienight/manage.py createsuperuser"
   ]
  }
 ],
 "metadata": {
  "kernelspec": {
   "display_name": "Python 3 (ipykernel)",
   "language": "python",
   "name": "python3"
  },
  "language_info": {
   "codemirror_mode": {
    "name": "ipython",
    "version": 3
   },
   "file_extension": ".py",
   "mimetype": "text/x-python",
   "name": "python",
   "nbconvert_exporter": "python",
   "pygments_lexer": "ipython3",
   "version": "3.10.11"
  }
 },
 "nbformat": 4,
 "nbformat_minor": 4
}
